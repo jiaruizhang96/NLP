{
 "cells": [
  {
   "cell_type": "code",
   "execution_count": 1,
   "metadata": {},
   "outputs": [],
   "source": [
    "import pandas as pd\n",
    "import glob\n",
    "import numpy as np\n",
    "import matplotlib.pyplot as plt\n",
    "import wordcloud\n",
    "import multi_rake\n",
    "import re\n",
    "from wordcloud import WordCloud, STOPWORDS \n",
    "from multi_rake import Rake"
   ]
  },
  {
   "cell_type": "code",
   "execution_count": 2,
   "metadata": {},
   "outputs": [
    {
     "name": "stdout",
     "output_type": "stream",
     "text": [
      "[[4898 1021374 'A2Y7115C2XZYHP' ... 440 450 13]\n",
      " [4899 1021374 'A2AOZQ3WTNVVOK' ... 71 76 0]\n",
      " [4900 1021374 'A3B2NVTP78WHUE' ... 48 52 5]\n",
      " ...\n",
      " ['1624815' '3224054' 'AQB65ZTE0HMZ7' ... '0' '3' '0']\n",
      " ['1624837' '3224054' 'A3LDSD574010LM' ... '0' '8' '0']\n",
      " ['1624841' '3224054' 'A3DUY3FHH21T3T' ... '2' '15' '10']]\n"
     ]
    },
    {
     "data": {
      "text/plain": [
       "(1328975, 11)"
      ]
     },
     "execution_count": 2,
     "metadata": {},
     "output_type": "execute_result"
    }
   ],
   "source": [
    "#deal with 2006~2012\n",
    "path = '/Users/jiaruizhang/Desktop/reviews/AZ_Review/' # use your path\n",
    "filename = []\n",
    "for i in range(2006,2013,1):\n",
    "    filename += [path+str(i)+'.csv']\n",
    "AZ_review_before = pd.concat(map(pd.read_csv, filename))\n",
    "#deal with 2013 special case\n",
    "az_13org = pd.read_csv('/Users/jiaruizhang/Desktop/reviews/AZ_Review/2013.csv',engine ='python') \n",
    "az_2013 = az_13org.iloc[:,:11]\n",
    "#merge result \n",
    "AZ_merge = [AZ_review_before,az_2013]\n",
    "AZ_review = pd.concat(AZ_merge)\n",
    "AZ_review_np = AZ_review.to_numpy()\n",
    "print(AZ_review_np)\n",
    "AZ_review_np.shape\n"
   ]
  },
  {
   "cell_type": "code",
   "execution_count": 3,
   "metadata": {},
   "outputs": [
    {
     "data": {
      "text/plain": [
       "'Not a DVD'"
      ]
     },
     "execution_count": 3,
     "metadata": {},
     "output_type": "execute_result"
    }
   ],
   "source": [
    "def getKey(text):\n",
    "    rake=Rake()\n",
    "    Keywords = re.sub(\"[^\\w]\", \" \", text)#no special chars\n",
    "    Keywords = ''.join([i for i in Keywords if not i.isdigit()])\n",
    "    #Keywords=rake.apply(Keywords)\n",
    "    if Keywords == []:\n",
    "        return ''\n",
    "    else:\n",
    "        return Keywords\n",
    "a ='Not a DVD'\n",
    "b = 'covid-19 situation'\n",
    "getKey(a)"
   ]
  },
  {
   "cell_type": "code",
   "execution_count": 4,
   "metadata": {},
   "outputs": [
    {
     "data": {
      "text/plain": [
       "'There have been dozens of movies and television shows that capitalize on the legend of Robin Hood. This version is clever and funny, and the music of country music legend Roger Miller makes this movie one for everyone to watch.<br /><br />Everyone knows the tale of Robin Hood. Forced to be an outlaw, though always loyal to King Richard, Robin Hood fought against the usurper Prince John. Robin Hood sheltered and protected poor people and redistributed wealth from the rich to the needy poor. Robin Hood performed these deeds from his base in Sherwood Forest.<br /><br />Though we have seen this movie with many different great actors, this version has excellent comedy and very good animation. Robin Hood is appropriately swashbuckling and handsome, and Maid Marian is beautiful; both characters are drawn as foxes. In fact, all the characters in this movie are animals, as Alan-A-Dale points out at the beginning of the movie.<br /><br />This film has its share of great actors. Englishman Brian Bedford provides a perfect voice for Robin. Monica Evans, who also appeared in \"The Odd Couple,\" voices Maid Marian. The role of Maid Marian was the last for Monica Evans. The incomparable Peter Ustinov (\"Quo Vadis,\" \"Blackbeard\\'s Ghost\") voices both Prince John and King Richard. Terry Thomas (\"Tom Thumb,\" \"The Abominable Dr. Phibes\") is the voice of Sir Hiss. Roger Miller is the minstrel Alan-A-Dale. Miller also provided the songs for this movie. Andy Devine (who had more than 180 movie and television appearances dating back to the 1920\\'s) voices Friar Tuck. Pat Buttram (\"The Rescuers,\" \"Back to the Future III\") voices the Sheriff of Nottingham and George Lindsey (\"The Rescuers,\" \"The Andy Griffith Show\") voices Trigger.<br /><br />Disney has released several versions of this movie.  The previous \"gold\" version is adequate and if you have that version and are satisfied with it, I recommend you pass on this version.  If you are a first-time buyer of this film then I recommend this version because of the restored picture and the cleaner sound.  Also, this film does have an alternate ending that some viewers may find interesting.  The other added features are marginal in value.  I find myself avoiding the extras more and more, especially on Disney DVD\\'s.<br /><br />This movie is fun to watch again and again, and is a favorite of children of all ages. I recommend this movie to anyone looking for a pleasant story to watch, and to anyone with young children.'"
      ]
     },
     "execution_count": 4,
     "metadata": {},
     "output_type": "execute_result"
    }
   ],
   "source": [
    "AZ_review_title = AZ_review_np[:,7]\n",
    "AZ_review_title[1]"
   ]
  },
  {
   "cell_type": "code",
   "execution_count": null,
   "metadata": {},
   "outputs": [],
   "source": [
    "accum = 0\n",
    "comment_words = '' \n",
    "for i in range(len(AZ_review_title)):\n",
    "    AZ_review_title[i] = getKey(str(AZ_review_title[i]))\n",
    "    accum += 1"
   ]
  },
  {
   "cell_type": "code",
   "execution_count": null,
   "metadata": {},
   "outputs": [],
   "source": [
    "stopwords = set(STOPWORDS) \n",
    "comment_words += \" \".join(AZ_review_title)+\" \"\n",
    "wordcloud = WordCloud(width = 800, height = 800, \n",
    "                background_color ='white', \n",
    "                stopwords = stopwords, \n",
    "                min_font_size = 10).generate(comment_words) \n",
    "  \n",
    "# plot the WordCloud image                        \n",
    "\n",
    "plt.imshow(wordcloud,interpolation=\"bilinear\") \n",
    "plt.axis(\"off\") \n",
    "plt.tight_layout(pad = 0) \n",
    "  \n",
    "plt.show() "
   ]
  },
  {
   "cell_type": "code",
   "execution_count": null,
   "metadata": {},
   "outputs": [],
   "source": []
  }
 ],
 "metadata": {
  "kernelspec": {
   "display_name": "Python 3",
   "language": "python",
   "name": "python3"
  },
  "language_info": {
   "codemirror_mode": {
    "name": "ipython",
    "version": 3
   },
   "file_extension": ".py",
   "mimetype": "text/x-python",
   "name": "python",
   "nbconvert_exporter": "python",
   "pygments_lexer": "ipython3",
   "version": "3.7.4"
  }
 },
 "nbformat": 4,
 "nbformat_minor": 2
}
