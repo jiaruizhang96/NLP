{
 "cells": [
  {
   "cell_type": "code",
   "execution_count": 1,
   "metadata": {},
   "outputs": [],
   "source": [
    "import pandas as pd\n",
    "import glob\n",
    "import numpy as np\n",
    "import matplotlib.pyplot as plt\n",
    "import multi_rake\n",
    "import re\n",
    "import string\n",
    "import sklearn\n",
    "from sklearn.feature_extraction.text import CountVectorizer\n",
    "from multi_rake import Rake\n",
    "import nltk\n",
    "import csv\n",
    "pd.options.mode.chained_assignment = None  # default='warn'\n",
    "\n",
    "\n",
    "#deal with 2006~2012\n",
    "path = '/Users/jiaruizhang/Desktop/reviews/AZ_Review/' # use your path\n",
    "filename = []\n",
    "for i in range(2010,2013,1):\n",
    "    filename += [path+str(i)+'.csv']\n",
    "AZ_review_before = pd.concat(map(pd.read_csv, filename))\n",
    "#deal with 2013 special case\n",
    "az_13org = pd.read_csv('/Users/jiaruizhang/Desktop/reviews/AZ_Review/2013.csv',engine ='python') \n",
    "az_2013 = az_13org.iloc[:30000,:11]\n",
    "#merge result \n",
    "AZ_merge = [AZ_review_before,az_2013]\n",
    "AZ_review = pd.concat(AZ_merge)\n",
    "AZ_review = AZ_review.sort_index()\n",
    "AZ_content = AZ_review.content\n",
    "AZ_star = AZ_review.star\n",
    "AZ_ID = AZ_review.user_id\n",
    "AZ_content = AZ_content.to_frame()\n",
    "AZ_star = AZ_star.to_frame()\n",
    "AZ_ID = AZ_ID.to_frame()\n",
    "frames = [AZ_ID,AZ_star,AZ_content]\n",
    "AZ = pd.concat(frames,axis = 1, sort = True)"
   ]
  },
  {
   "cell_type": "code",
   "execution_count": 2,
   "metadata": {},
   "outputs": [
    {
     "data": {
      "text/html": [
       "<div>\n",
       "<style scoped>\n",
       "    .dataframe tbody tr th:only-of-type {\n",
       "        vertical-align: middle;\n",
       "    }\n",
       "\n",
       "    .dataframe tbody tr th {\n",
       "        vertical-align: top;\n",
       "    }\n",
       "\n",
       "    .dataframe thead th {\n",
       "        text-align: right;\n",
       "    }\n",
       "</style>\n",
       "<table border=\"1\" class=\"dataframe\">\n",
       "  <thead>\n",
       "    <tr style=\"text-align: right;\">\n",
       "      <th></th>\n",
       "      <th>user_id</th>\n",
       "      <th>star</th>\n",
       "      <th>content</th>\n",
       "    </tr>\n",
       "  </thead>\n",
       "  <tbody>\n",
       "    <tr>\n",
       "      <td>0</td>\n",
       "      <td>A33EN2ZL2MS0CI</td>\n",
       "      <td>3</td>\n",
       "      <td>Our Family Wedding is a good movie, just know ...</td>\n",
       "    </tr>\n",
       "    <tr>\n",
       "      <td>0</td>\n",
       "      <td>A2YVJNYW60BH0N</td>\n",
       "      <td>5</td>\n",
       "      <td>Witty ,funny,smart and very sexy .Just the rig...</td>\n",
       "    </tr>\n",
       "    <tr>\n",
       "      <td>0</td>\n",
       "      <td>A3FU4UD3Q105YB</td>\n",
       "      <td>3</td>\n",
       "      <td>My 19 year old daughter bought this movie arou...</td>\n",
       "    </tr>\n",
       "    <tr>\n",
       "      <td>0</td>\n",
       "      <td>A1RRCDE10SUAXB</td>\n",
       "      <td>5</td>\n",
       "      <td>This show is extremely funny.  I highly recomm...</td>\n",
       "    </tr>\n",
       "    <tr>\n",
       "      <td>1</td>\n",
       "      <td>A39WU6Z0GLFPZF</td>\n",
       "      <td>5</td>\n",
       "      <td>A very entertaining story of two different eth...</td>\n",
       "    </tr>\n",
       "    <tr>\n",
       "      <td>...</td>\n",
       "      <td>...</td>\n",
       "      <td>...</td>\n",
       "      <td>...</td>\n",
       "    </tr>\n",
       "    <tr>\n",
       "      <td>192342</td>\n",
       "      <td>AJE2898VBZRI8</td>\n",
       "      <td>5</td>\n",
       "      <td>This is the best DVD collection I have ever pu...</td>\n",
       "    </tr>\n",
       "    <tr>\n",
       "      <td>192343</td>\n",
       "      <td>A9BLACH3N9Y4</td>\n",
       "      <td>3</td>\n",
       "      <td>I started watching this show based on a recomm...</td>\n",
       "    </tr>\n",
       "    <tr>\n",
       "      <td>192344</td>\n",
       "      <td>A3QKZIXX7P5N5E</td>\n",
       "      <td>5</td>\n",
       "      <td>The other day I met Tom Welling and he signed ...</td>\n",
       "    </tr>\n",
       "    <tr>\n",
       "      <td>192345</td>\n",
       "      <td>AWPOWZJNQ2PHH</td>\n",
       "      <td>2</td>\n",
       "      <td>Greetings fellow amazonians I just wanted to w...</td>\n",
       "    </tr>\n",
       "    <tr>\n",
       "      <td>192346</td>\n",
       "      <td>A2G81TMIOIDEQQ</td>\n",
       "      <td>1</td>\n",
       "      <td>So the packaging sucks... 'nuff said about tha...</td>\n",
       "    </tr>\n",
       "  </tbody>\n",
       "</table>\n",
       "<p>393307 rows × 3 columns</p>\n",
       "</div>"
      ],
      "text/plain": [
       "               user_id star                                            content\n",
       "0       A33EN2ZL2MS0CI    3  Our Family Wedding is a good movie, just know ...\n",
       "0       A2YVJNYW60BH0N    5  Witty ,funny,smart and very sexy .Just the rig...\n",
       "0       A3FU4UD3Q105YB    3  My 19 year old daughter bought this movie arou...\n",
       "0       A1RRCDE10SUAXB    5  This show is extremely funny.  I highly recomm...\n",
       "1       A39WU6Z0GLFPZF    5  A very entertaining story of two different eth...\n",
       "...                ...  ...                                                ...\n",
       "192342   AJE2898VBZRI8    5  This is the best DVD collection I have ever pu...\n",
       "192343    A9BLACH3N9Y4    3  I started watching this show based on a recomm...\n",
       "192344  A3QKZIXX7P5N5E    5  The other day I met Tom Welling and he signed ...\n",
       "192345   AWPOWZJNQ2PHH    2  Greetings fellow amazonians I just wanted to w...\n",
       "192346  A2G81TMIOIDEQQ    1  So the packaging sucks... 'nuff said about tha...\n",
       "\n",
       "[393307 rows x 3 columns]"
      ]
     },
     "execution_count": 2,
     "metadata": {},
     "output_type": "execute_result"
    }
   ],
   "source": [
    "AZ"
   ]
  },
  {
   "cell_type": "code",
   "execution_count": 3,
   "metadata": {},
   "outputs": [
    {
     "data": {
      "text/html": [
       "<div>\n",
       "<style scoped>\n",
       "    .dataframe tbody tr th:only-of-type {\n",
       "        vertical-align: middle;\n",
       "    }\n",
       "\n",
       "    .dataframe tbody tr th {\n",
       "        vertical-align: top;\n",
       "    }\n",
       "\n",
       "    .dataframe thead th {\n",
       "        text-align: right;\n",
       "    }\n",
       "</style>\n",
       "<table border=\"1\" class=\"dataframe\">\n",
       "  <thead>\n",
       "    <tr style=\"text-align: right;\">\n",
       "      <th></th>\n",
       "      <th>user_id</th>\n",
       "      <th>star</th>\n",
       "      <th>content</th>\n",
       "    </tr>\n",
       "  </thead>\n",
       "  <tbody>\n",
       "    <tr>\n",
       "      <td>0</td>\n",
       "      <td>A33EN2ZL2MS0CI</td>\n",
       "      <td>3</td>\n",
       "      <td>Our Family Wedding is a good movie, just know ...</td>\n",
       "    </tr>\n",
       "    <tr>\n",
       "      <td>0</td>\n",
       "      <td>A2YVJNYW60BH0N</td>\n",
       "      <td>5</td>\n",
       "      <td>Witty ,funny,smart and very sexy .Just the rig...</td>\n",
       "    </tr>\n",
       "    <tr>\n",
       "      <td>0</td>\n",
       "      <td>A3FU4UD3Q105YB</td>\n",
       "      <td>3</td>\n",
       "      <td>My 19 year old daughter bought this movie arou...</td>\n",
       "    </tr>\n",
       "    <tr>\n",
       "      <td>0</td>\n",
       "      <td>A1RRCDE10SUAXB</td>\n",
       "      <td>5</td>\n",
       "      <td>This show is extremely funny.  I highly recomm...</td>\n",
       "    </tr>\n",
       "    <tr>\n",
       "      <td>1</td>\n",
       "      <td>A39WU6Z0GLFPZF</td>\n",
       "      <td>5</td>\n",
       "      <td>A very entertaining story of two different eth...</td>\n",
       "    </tr>\n",
       "    <tr>\n",
       "      <td>...</td>\n",
       "      <td>...</td>\n",
       "      <td>...</td>\n",
       "      <td>...</td>\n",
       "    </tr>\n",
       "    <tr>\n",
       "      <td>192338</td>\n",
       "      <td>A2BPXHBAF8PVIV</td>\n",
       "      <td>5</td>\n",
       "      <td>Love, love, love this collection! Can't get en...</td>\n",
       "    </tr>\n",
       "    <tr>\n",
       "      <td>192340</td>\n",
       "      <td>A1YUCDM6Y43O73</td>\n",
       "      <td>5</td>\n",
       "      <td>Order was exactly what I wanted and shipped fa...</td>\n",
       "    </tr>\n",
       "    <tr>\n",
       "      <td>192341</td>\n",
       "      <td>A1KNXZUKP2KK7S</td>\n",
       "      <td>5</td>\n",
       "      <td>I'm delighted with the presentation!! The pics...</td>\n",
       "    </tr>\n",
       "    <tr>\n",
       "      <td>192342</td>\n",
       "      <td>AJE2898VBZRI8</td>\n",
       "      <td>5</td>\n",
       "      <td>This is the best DVD collection I have ever pu...</td>\n",
       "    </tr>\n",
       "    <tr>\n",
       "      <td>192346</td>\n",
       "      <td>A2G81TMIOIDEQQ</td>\n",
       "      <td>1</td>\n",
       "      <td>So the packaging sucks... 'nuff said about tha...</td>\n",
       "    </tr>\n",
       "  </tbody>\n",
       "</table>\n",
       "<p>223168 rows × 3 columns</p>\n",
       "</div>"
      ],
      "text/plain": [
       "               user_id star                                            content\n",
       "0       A33EN2ZL2MS0CI    3  Our Family Wedding is a good movie, just know ...\n",
       "0       A2YVJNYW60BH0N    5  Witty ,funny,smart and very sexy .Just the rig...\n",
       "0       A3FU4UD3Q105YB    3  My 19 year old daughter bought this movie arou...\n",
       "0       A1RRCDE10SUAXB    5  This show is extremely funny.  I highly recomm...\n",
       "1       A39WU6Z0GLFPZF    5  A very entertaining story of two different eth...\n",
       "...                ...  ...                                                ...\n",
       "192338  A2BPXHBAF8PVIV    5  Love, love, love this collection! Can't get en...\n",
       "192340  A1YUCDM6Y43O73    5  Order was exactly what I wanted and shipped fa...\n",
       "192341  A1KNXZUKP2KK7S    5  I'm delighted with the presentation!! The pics...\n",
       "192342   AJE2898VBZRI8    5  This is the best DVD collection I have ever pu...\n",
       "192346  A2G81TMIOIDEQQ    1  So the packaging sucks... 'nuff said about tha...\n",
       "\n",
       "[223168 rows x 3 columns]"
      ]
     },
     "execution_count": 3,
     "metadata": {},
     "output_type": "execute_result"
    }
   ],
   "source": [
    "# skip last column\n",
    "AZ.drop_duplicates(['user_id'])"
   ]
  },
  {
   "cell_type": "code",
   "execution_count": 4,
   "metadata": {},
   "outputs": [
    {
     "data": {
      "text/plain": [
       "pandas.core.series.Series"
      ]
     },
     "execution_count": 4,
     "metadata": {},
     "output_type": "execute_result"
    }
   ],
   "source": [
    "judge = AZ.duplicated(['user_id'])\n",
    "type(judge)"
   ]
  },
  {
   "cell_type": "code",
   "execution_count": 5,
   "metadata": {},
   "outputs": [
    {
     "data": {
      "text/plain": [
       "0.43258574090977275"
      ]
     },
     "execution_count": 5,
     "metadata": {},
     "output_type": "execute_result"
    }
   ],
   "source": [
    "dup = 1-223168/393307\n",
    "dup"
   ]
  },
  {
   "cell_type": "code",
   "execution_count": 6,
   "metadata": {},
   "outputs": [
    {
     "data": {
      "text/html": [
       "<div>\n",
       "<style scoped>\n",
       "    .dataframe tbody tr th:only-of-type {\n",
       "        vertical-align: middle;\n",
       "    }\n",
       "\n",
       "    .dataframe tbody tr th {\n",
       "        vertical-align: top;\n",
       "    }\n",
       "\n",
       "    .dataframe thead th {\n",
       "        text-align: right;\n",
       "    }\n",
       "</style>\n",
       "<table border=\"1\" class=\"dataframe\">\n",
       "  <thead>\n",
       "    <tr style=\"text-align: right;\">\n",
       "      <th></th>\n",
       "      <th>star</th>\n",
       "      <th>user_id</th>\n",
       "      <th>index</th>\n",
       "    </tr>\n",
       "  </thead>\n",
       "  <tbody>\n",
       "    <tr>\n",
       "      <td>0</td>\n",
       "      <td>4.755020</td>\n",
       "      <td>A35ZK3M8L9JUPX</td>\n",
       "      <td>0</td>\n",
       "    </tr>\n",
       "    <tr>\n",
       "      <td>1</td>\n",
       "      <td>4.071138</td>\n",
       "      <td>A370Z6I5GBWU44</td>\n",
       "      <td>1</td>\n",
       "    </tr>\n",
       "    <tr>\n",
       "      <td>2</td>\n",
       "      <td>4.910515</td>\n",
       "      <td>AWG2O9C42XW5G</td>\n",
       "      <td>2</td>\n",
       "    </tr>\n",
       "    <tr>\n",
       "      <td>3</td>\n",
       "      <td>3.285714</td>\n",
       "      <td>ANCOMAI0I7LVG</td>\n",
       "      <td>3</td>\n",
       "    </tr>\n",
       "    <tr>\n",
       "      <td>4</td>\n",
       "      <td>3.996283</td>\n",
       "      <td>AV6QDP8Q0ONK4</td>\n",
       "      <td>4</td>\n",
       "    </tr>\n",
       "    <tr>\n",
       "      <td>...</td>\n",
       "      <td>...</td>\n",
       "      <td>...</td>\n",
       "      <td>...</td>\n",
       "    </tr>\n",
       "    <tr>\n",
       "      <td>6192</td>\n",
       "      <td>5.000000</td>\n",
       "      <td>AZJURZWT6TJBW</td>\n",
       "      <td>6192</td>\n",
       "    </tr>\n",
       "    <tr>\n",
       "      <td>6193</td>\n",
       "      <td>2.666667</td>\n",
       "      <td>AGDUM8DAAV8HA</td>\n",
       "      <td>6193</td>\n",
       "    </tr>\n",
       "    <tr>\n",
       "      <td>6194</td>\n",
       "      <td>4.166667</td>\n",
       "      <td>A2P0P6Z7YMZZK0</td>\n",
       "      <td>6194</td>\n",
       "    </tr>\n",
       "    <tr>\n",
       "      <td>6195</td>\n",
       "      <td>5.000000</td>\n",
       "      <td>ASJYEAVAWQ7H3</td>\n",
       "      <td>6195</td>\n",
       "    </tr>\n",
       "    <tr>\n",
       "      <td>6196</td>\n",
       "      <td>5.000000</td>\n",
       "      <td>A100UD67AHFODS</td>\n",
       "      <td>6196</td>\n",
       "    </tr>\n",
       "  </tbody>\n",
       "</table>\n",
       "<p>6197 rows × 3 columns</p>\n",
       "</div>"
      ],
      "text/plain": [
       "          star         user_id  index\n",
       "0     4.755020  A35ZK3M8L9JUPX      0\n",
       "1     4.071138  A370Z6I5GBWU44      1\n",
       "2     4.910515   AWG2O9C42XW5G      2\n",
       "3     3.285714   ANCOMAI0I7LVG      3\n",
       "4     3.996283   AV6QDP8Q0ONK4      4\n",
       "...        ...             ...    ...\n",
       "6192  5.000000   AZJURZWT6TJBW   6192\n",
       "6193  2.666667   AGDUM8DAAV8HA   6193\n",
       "6194  4.166667  A2P0P6Z7YMZZK0   6194\n",
       "6195  5.000000   ASJYEAVAWQ7H3   6195\n",
       "6196  5.000000  A100UD67AHFODS   6196\n",
       "\n",
       "[6197 rows x 3 columns]"
      ]
     },
     "execution_count": 6,
     "metadata": {},
     "output_type": "execute_result"
    }
   ],
   "source": [
    "AZ_user = AZ['user_id'].value_counts().to_frame()\n",
    "AZ_user = AZ_user[(AZ_user.user_id > 5)]\n",
    "star = []\n",
    "name = []\n",
    "accum = 0\n",
    "cnt = [] \n",
    "for row in AZ_user.iterrows():\n",
    "    lis = AZ[(AZ.user_id == row[0])]\n",
    "    score = lis['star'].astype(int).mean()\n",
    "    star += [score]\n",
    "    name += [row[0]]\n",
    "    cnt += [row[1]]\n",
    "\n",
    "df = pd.DataFrame(star,columns=['star'])\n",
    "df['user_id'] = name\n",
    "df['index'] = range(0,len(df)) \n",
    "df"
   ]
  },
  {
   "cell_type": "code",
   "execution_count": 7,
   "metadata": {},
   "outputs": [
    {
     "data": {
      "text/plain": [
       "4.108854528557055"
      ]
     },
     "execution_count": 7,
     "metadata": {},
     "output_type": "execute_result"
    }
   ],
   "source": [
    "avg = df['star'].mean()\n",
    "avg # avg for AZ is 4.374"
   ]
  },
  {
   "cell_type": "code",
   "execution_count": 8,
   "metadata": {
    "scrolled": true
   },
   "outputs": [
    {
     "data": {
      "text/plain": [
       "<matplotlib.axes._subplots.AxesSubplot at 0x1a1ad8ff10>"
      ]
     },
     "execution_count": 8,
     "metadata": {},
     "output_type": "execute_result"
    },
    {
     "data": {
      "image/png": "[encoded data removed]",
      "text/plain": [
       "<Figure size 432x288 with 1 Axes>"
      ]
     },
     "metadata": {
      "needs_background": "light"
     },
     "output_type": "display_data"
    }
   ],
   "source": [
    "AZ_user = AZ['user_id'].value_counts().to_frame()\n",
    "AZ_user = AZ_user[(AZ_user.user_id > 5)]\n",
    "AZ_user.plot()\n",
    "#new = AZ_user['user_id'].value_counts().to_frame()\n",
    "#new = new[(new.user_id > 3)]\n",
    "#new.plot(kind='bar')"
   ]
  },
  {
   "cell_type": "code",
   "execution_count": 9,
   "metadata": {},
   "outputs": [
    {
     "data": {
      "text/html": [
       "<div>\n",
       "<style scoped>\n",
       "    .dataframe tbody tr th:only-of-type {\n",
       "        vertical-align: middle;\n",
       "    }\n",
       "\n",
       "    .dataframe tbody tr th {\n",
       "        vertical-align: top;\n",
       "    }\n",
       "\n",
       "    .dataframe thead th {\n",
       "        text-align: right;\n",
       "    }\n",
       "</style>\n",
       "<table border=\"1\" class=\"dataframe\">\n",
       "  <thead>\n",
       "    <tr style=\"text-align: right;\">\n",
       "      <th></th>\n",
       "      <th>user_id</th>\n",
       "    </tr>\n",
       "  </thead>\n",
       "  <tbody>\n",
       "    <tr>\n",
       "      <td>A35ZK3M8L9JUPX</td>\n",
       "      <td>498</td>\n",
       "    </tr>\n",
       "    <tr>\n",
       "      <td>A370Z6I5GBWU44</td>\n",
       "      <td>492</td>\n",
       "    </tr>\n",
       "    <tr>\n",
       "      <td>AWG2O9C42XW5G</td>\n",
       "      <td>447</td>\n",
       "    </tr>\n",
       "    <tr>\n",
       "      <td>ANCOMAI0I7LVG</td>\n",
       "      <td>322</td>\n",
       "    </tr>\n",
       "    <tr>\n",
       "      <td>AV6QDP8Q0ONK4</td>\n",
       "      <td>269</td>\n",
       "    </tr>\n",
       "    <tr>\n",
       "      <td>...</td>\n",
       "      <td>...</td>\n",
       "    </tr>\n",
       "    <tr>\n",
       "      <td>AZJURZWT6TJBW</td>\n",
       "      <td>6</td>\n",
       "    </tr>\n",
       "    <tr>\n",
       "      <td>AGDUM8DAAV8HA</td>\n",
       "      <td>6</td>\n",
       "    </tr>\n",
       "    <tr>\n",
       "      <td>A2P0P6Z7YMZZK0</td>\n",
       "      <td>6</td>\n",
       "    </tr>\n",
       "    <tr>\n",
       "      <td>ASJYEAVAWQ7H3</td>\n",
       "      <td>6</td>\n",
       "    </tr>\n",
       "    <tr>\n",
       "      <td>A100UD67AHFODS</td>\n",
       "      <td>6</td>\n",
       "    </tr>\n",
       "  </tbody>\n",
       "</table>\n",
       "<p>6197 rows × 1 columns</p>\n",
       "</div>"
      ],
      "text/plain": [
       "                user_id\n",
       "A35ZK3M8L9JUPX      498\n",
       "A370Z6I5GBWU44      492\n",
       "AWG2O9C42XW5G       447\n",
       "ANCOMAI0I7LVG       322\n",
       "AV6QDP8Q0ONK4       269\n",
       "...                 ...\n",
       "AZJURZWT6TJBW         6\n",
       "AGDUM8DAAV8HA         6\n",
       "A2P0P6Z7YMZZK0        6\n",
       "ASJYEAVAWQ7H3         6\n",
       "A100UD67AHFODS        6\n",
       "\n",
       "[6197 rows x 1 columns]"
      ]
     },
     "execution_count": 9,
     "metadata": {},
     "output_type": "execute_result"
    }
   ],
   "source": [
    "AZ_user"
   ]
  },
  {
   "cell_type": "code",
   "execution_count": 10,
   "metadata": {},
   "outputs": [
    {
     "data": {
      "text/plain": [
       "0.01575613960595667"
      ]
     },
     "execution_count": 10,
     "metadata": {},
     "output_type": "execute_result"
    }
   ],
   "source": [
    "6197/393307"
   ]
  },
  {
   "cell_type": "code",
   "execution_count": null,
   "metadata": {},
   "outputs": [],
   "source": []
  }
 ],
 "metadata": {
  "kernelspec": {
   "display_name": "Python 3",
   "language": "python",
   "name": "python3"
  },
  "language_info": {
   "codemirror_mode": {
    "name": "ipython",
    "version": 3
   },
   "file_extension": ".py",
   "mimetype": "text/x-python",
   "name": "python",
   "nbconvert_exporter": "python",
   "pygments_lexer": "ipython3",
   "version": "3.7.4"
  }
 },
 "nbformat": 4,
 "nbformat_minor": 2
}
