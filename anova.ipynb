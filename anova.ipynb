{
 "cells": [
  {
   "cell_type": "code",
   "execution_count": 1,
   "metadata": {},
   "outputs": [],
   "source": [
    "import pandas as pd\n",
    "import matplotlib.pyplot as plt\n",
    "import scipy.stats as stats\n",
    "import numpy as np\n",
    "import statsmodels.api as sm\n",
    "from statsmodels.formula.api import ols"
   ]
  },
  {
   "cell_type": "code",
   "execution_count": 2,
   "metadata": {},
   "outputs": [],
   "source": [
    "# Create quick lambda functions to find the polarity and subjectivity of each routine\n",
    "from textblob import TextBlob\n",
    "pol = lambda x: TextBlob(x).sentiment.polarity\n",
    "sub = lambda x: TextBlob(x).sentiment.subjectivity"
   ]
  },
  {
   "cell_type": "code",
   "execution_count": 5,
   "metadata": {},
   "outputs": [
    {
     "data": {
      "text/html": [
       "<div>\n",
       "<style scoped>\n",
       "    .dataframe tbody tr th:only-of-type {\n",
       "        vertical-align: middle;\n",
       "    }\n",
       "\n",
       "    .dataframe tbody tr th {\n",
       "        vertical-align: top;\n",
       "    }\n",
       "\n",
       "    .dataframe thead th {\n",
       "        text-align: right;\n",
       "    }\n",
       "</style>\n",
       "<table border=\"1\" class=\"dataframe\">\n",
       "  <thead>\n",
       "    <tr style=\"text-align: right;\">\n",
       "      <th></th>\n",
       "      <th>content</th>\n",
       "      <th>star</th>\n",
       "      <th>sku</th>\n",
       "      <th>label</th>\n",
       "      <th>polarity</th>\n",
       "      <th>subjectivity</th>\n",
       "    </tr>\n",
       "  </thead>\n",
       "  <tbody>\n",
       "    <tr>\n",
       "      <td>0</td>\n",
       "      <td>its a bagit holds candy not included trick or ...</td>\n",
       "      <td>5</td>\n",
       "      <td>8566349</td>\n",
       "      <td>1</td>\n",
       "      <td>0.400000</td>\n",
       "      <td>0.800000</td>\n",
       "    </tr>\n",
       "    <tr>\n",
       "      <td>1</td>\n",
       "      <td>the bag would be a great deal if it was availa...</td>\n",
       "      <td>1</td>\n",
       "      <td>8566349</td>\n",
       "      <td>0</td>\n",
       "      <td>0.262500</td>\n",
       "      <td>0.337500</td>\n",
       "    </tr>\n",
       "    <tr>\n",
       "      <td>2</td>\n",
       "      <td>loved the movie and it played ok was delivered...</td>\n",
       "      <td>5</td>\n",
       "      <td>6083463</td>\n",
       "      <td>1</td>\n",
       "      <td>0.600000</td>\n",
       "      <td>0.650000</td>\n",
       "    </tr>\n",
       "    <tr>\n",
       "      <td>3</td>\n",
       "      <td>as a guy i cant say im headoverheels for dirty...</td>\n",
       "      <td>3</td>\n",
       "      <td>6083463</td>\n",
       "      <td>0</td>\n",
       "      <td>-0.029932</td>\n",
       "      <td>0.600680</td>\n",
       "    </tr>\n",
       "    <tr>\n",
       "      <td>4</td>\n",
       "      <td>this movie is great for all ages shipping was ...</td>\n",
       "      <td>5</td>\n",
       "      <td>8977805</td>\n",
       "      <td>1</td>\n",
       "      <td>0.500000</td>\n",
       "      <td>0.675000</td>\n",
       "    </tr>\n",
       "    <tr>\n",
       "      <td>...</td>\n",
       "      <td>...</td>\n",
       "      <td>...</td>\n",
       "      <td>...</td>\n",
       "      <td>...</td>\n",
       "      <td>...</td>\n",
       "      <td>...</td>\n",
       "    </tr>\n",
       "    <tr>\n",
       "      <td>154</td>\n",
       "      <td>i bought this as a christmas gift for a family...</td>\n",
       "      <td>5</td>\n",
       "      <td>3792604</td>\n",
       "      <td>0</td>\n",
       "      <td>0.514286</td>\n",
       "      <td>0.460714</td>\n",
       "    </tr>\n",
       "    <tr>\n",
       "      <td>155</td>\n",
       "      <td>our purchase was as a christmas gift for our g...</td>\n",
       "      <td>5</td>\n",
       "      <td>3792604</td>\n",
       "      <td>1</td>\n",
       "      <td>0.221429</td>\n",
       "      <td>0.308929</td>\n",
       "    </tr>\n",
       "    <tr>\n",
       "      <td>156</td>\n",
       "      <td>this is just a quick note for anyone who was c...</td>\n",
       "      <td>4</td>\n",
       "      <td>3792604</td>\n",
       "      <td>1</td>\n",
       "      <td>0.333333</td>\n",
       "      <td>0.500000</td>\n",
       "    </tr>\n",
       "    <tr>\n",
       "      <td>157</td>\n",
       "      <td>stargate sg the entire series just amazing to ...</td>\n",
       "      <td>5</td>\n",
       "      <td>8553399</td>\n",
       "      <td>0</td>\n",
       "      <td>0.150000</td>\n",
       "      <td>0.664286</td>\n",
       "    </tr>\n",
       "    <tr>\n",
       "      <td>158</td>\n",
       "      <td>i was very excited to receive this set however...</td>\n",
       "      <td>1</td>\n",
       "      <td>8553399</td>\n",
       "      <td>1</td>\n",
       "      <td>-0.135937</td>\n",
       "      <td>0.481250</td>\n",
       "    </tr>\n",
       "  </tbody>\n",
       "</table>\n",
       "<p>159 rows × 6 columns</p>\n",
       "</div>"
      ],
      "text/plain": [
       "                                               content  star      sku  label  \\\n",
       "0    its a bagit holds candy not included trick or ...     5  8566349      1   \n",
       "1    the bag would be a great deal if it was availa...     1  8566349      0   \n",
       "2    loved the movie and it played ok was delivered...     5  6083463      1   \n",
       "3    as a guy i cant say im headoverheels for dirty...     3  6083463      0   \n",
       "4    this movie is great for all ages shipping was ...     5  8977805      1   \n",
       "..                                                 ...   ...      ...    ...   \n",
       "154  i bought this as a christmas gift for a family...     5  3792604      0   \n",
       "155  our purchase was as a christmas gift for our g...     5  3792604      1   \n",
       "156  this is just a quick note for anyone who was c...     4  3792604      1   \n",
       "157  stargate sg the entire series just amazing to ...     5  8553399      0   \n",
       "158  i was very excited to receive this set however...     1  8553399      1   \n",
       "\n",
       "     polarity  subjectivity  \n",
       "0    0.400000      0.800000  \n",
       "1    0.262500      0.337500  \n",
       "2    0.600000      0.650000  \n",
       "3   -0.029932      0.600680  \n",
       "4    0.500000      0.675000  \n",
       "..        ...           ...  \n",
       "154  0.514286      0.460714  \n",
       "155  0.221429      0.308929  \n",
       "156  0.333333      0.500000  \n",
       "157  0.150000      0.664286  \n",
       "158 -0.135937      0.481250  \n",
       "\n",
       "[159 rows x 6 columns]"
      ]
     },
     "execution_count": 5,
     "metadata": {},
     "output_type": "execute_result"
    }
   ],
   "source": [
    "BB = pd.read_csv('/Users/jiaruizhang/Desktop/reviews/coding/after sort.csv')\n",
    "BB = BB.sort_index()\n",
    "BB['polarity'] = BB['content'].apply(pol)\n",
    "BB['subjectivity'] = BB['content'].apply(sub)\n",
    "BB"
   ]
  },
  {
   "cell_type": "code",
   "execution_count": 9,
   "metadata": {},
   "outputs": [
    {
     "name": "stdout",
     "output_type": "stream",
     "text": [
      "             sum_sq     df         F    PR(>F)\n",
      "label      0.000116    1.0  0.001717  0.966996\n",
      "Residual  10.575467  157.0       NaN       NaN\n"
     ]
    }
   ],
   "source": [
    "# polarity\n",
    "pol_melt = pd.melt(BB, id_vars=['label'],value_vars=['polarity'])\n",
    "#Ordinary Least Squares (OLS) model\n",
    "pol_model = ols('value ~ label', data=pol_melt).fit()\n",
    "pol_anova = sm.stats.anova_lm(pol_model,typ=2)\n",
    "print(pol_anova)"
   ]
  },
  {
   "cell_type": "code",
   "execution_count": 8,
   "metadata": {},
   "outputs": [
    {
     "name": "stdout",
     "output_type": "stream",
     "text": [
      "            sum_sq     df        F   PR(>F)\n",
      "label     0.033202    1.0  1.05705  0.30547\n",
      "Residual  4.931447  157.0      NaN      NaN\n"
     ]
    }
   ],
   "source": [
    "# subjectivity\n",
    "sub_melt = pd.melt(BB, id_vars=['label'],value_vars=['subjectivity'])\n",
    "#Ordinary Least Squares (OLS) model\n",
    "sub_model = ols('value ~ label', data=sub_melt).fit()\n",
    "sub_anova = sm.stats.anova_lm(sub_model,typ=2)\n",
    "print(sub_anova)"
   ]
  },
  {
   "cell_type": "code",
   "execution_count": 7,
   "metadata": {},
   "outputs": [
    {
     "name": "stdout",
     "output_type": "stream",
     "text": [
      "              sum_sq     df         F    PR(>F)\n",
      "label       0.331942    1.0  0.287566  0.592543\n",
      "Residual  181.227806  157.0       NaN       NaN\n"
     ]
    }
   ],
   "source": [
    "# star\n",
    "star_melt = pd.melt(BB, id_vars=['label'],value_vars=['star'])\n",
    "#Ordinary Least Squares (OLS) model\n",
    "star_model = ols('value ~ label', data=star_melt).fit()\n",
    "star_anova = sm.stats.anova_lm(star_model,typ=2)\n",
    "print(star_anova)"
   ]
  },
  {
   "cell_type": "code",
   "execution_count": null,
   "metadata": {},
   "outputs": [],
   "source": []
  },
  {
   "cell_type": "code",
   "execution_count": null,
   "metadata": {},
   "outputs": [],
   "source": []
  }
 ],
 "metadata": {
  "kernelspec": {
   "display_name": "Python 3",
   "language": "python",
   "name": "python3"
  },
  "language_info": {
   "codemirror_mode": {
    "name": "ipython",
    "version": 3
   },
   "file_extension": ".py",
   "mimetype": "text/x-python",
   "name": "python",
   "nbconvert_exporter": "python",
   "pygments_lexer": "ipython3",
   "version": "3.7.4"
  }
 },
 "nbformat": 4,
 "nbformat_minor": 2
}
